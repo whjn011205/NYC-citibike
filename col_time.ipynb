{
 "cells": [
  {
   "cell_type": "code",
   "execution_count": 1,
   "metadata": {
    "collapsed": true
   },
   "outputs": [],
   "source": [
    "import pandas as pd\n",
    "import numpy as np\n",
    "from calc import calc_x_cy,calc_y_cy\n",
    "\n",
    "colnames={\n",
    "'DATE':'date',\n",
    "'TIME':'time',\n",
    "'BOROUGH':'bor',\n",
    "'ZIP CODE':'zip',\n",
    "'LATITUDE':'lat',\n",
    "'LONGITUDE':'long',\n",
    "'LOCATION':'loc',\n",
    "'ON STREET NAME':'onstreet',\n",
    "'CROSS STREET NAME':'crossstreet',\n",
    "'OFF STREET NAME':'offstreet',\n",
    "'NUMBER OF PERSONS INJURED':'n_inj',\n",
    "'NUMBER OF PERSONS KILLED':'n_kill',\n",
    "'NUMBER OF PEDESTRIANS INJURED':'ped_inj',\n",
    "'NUMBER OF PEDESTRIANS KILLED':'ped_kill',\n",
    "'NUMBER OF CYCLIST INJURED':'cyc_inj',\n",
    "'NUMBER OF CYCLIST KILLED':'cyc_kill',\n",
    "'NUMBER OF MOTORIST INJURED':'mot_inj',\n",
    "'NUMBER OF MOTORIST KILLED':'mot_kill',\n",
    "'CONTRIBUTING FACTOR VEHICLE 1':'factor1',\n",
    "'CONTRIBUTING FACTOR VEHICLE 2':'factor2',\n",
    "'CONTRIBUTING FACTOR VEHICLE 3':'factor3',\n",
    "'CONTRIBUTING FACTOR VEHICLE 4':'factor4',\n",
    "'CONTRIBUTING FACTOR VEHICLE 5':'factor5',\n",
    "'UNIQUE KEY':'key',\n",
    "'VEHICLE TYPE CODE 1':'vtype1',\n",
    "'VEHICLE TYPE CODE 2':'vtype2',\n",
    "'VEHICLE TYPE CODE 3':'vtype3',\n",
    "'VEHICLE TYPE CODE 4':'vtype4',\n",
    "'VEHICLE TYPE CODE 5':'vtype5'\n",
    "}\n",
    "\n",
    "y_sep=20\n",
    "x_sep=10\n",
    "# 40.6466779 40.804213 delta=0.157535\n",
    "# -74.0171345 -73.9298911 delta=0.08724399\n",
    "\n",
    "# lat_min,lat_max=40.645,40.805 #0.16\n",
    "# long_min,long_max=-74.020,-73.925 #0.095\n",
    "\n",
    "lat_min,lat_max=40.645,40.965 #0.16\n",
    "long_min,long_max=-74.020,-73.830 #0.095\n",
    "\n",
    "lat_sep=20\n",
    "long_sep=20\n",
    "lat_div=(lat_max-lat_min)/lat_sep\n",
    "long_div=(long_max-long_min)/long_sep"
   ]
  },
  {
   "cell_type": "code",
   "execution_count": 2,
   "metadata": {
    "collapsed": false
   },
   "outputs": [
    {
     "name": "stderr",
     "output_type": "stream",
     "text": [
      "D:\\Anaconda3\\lib\\site-packages\\IPython\\core\\interactiveshell.py:2723: DtypeWarning: Columns (22,28) have mixed types. Specify dtype option on import or set low_memory=False.\n",
      "  interactivity=interactivity, compiler=compiler, result=result)\n"
     ]
    },
    {
     "name": "stdout",
     "output_type": "stream",
     "text": [
      "40.5543879 40.912884\n"
     ]
    }
   ],
   "source": [
    "col='collisions/NYPD_Motor_Vehicle_Collisions.csv'\n",
    "\n",
    "df=pd.read_csv(col,skipinitialspace=True)#,nrows=100000)\n",
    "df.rename(columns=colnames,inplace=True)\n",
    "# print(df[0:10])\n",
    "\n",
    "df=df[df.lat.between(30,50)];df=df[df.long.between(-90,-60)]\n",
    "df=df[df.long>long_min]\n",
    "print (df.lat.min(),df.lat.max())"
   ]
  },
  {
   "cell_type": "code",
   "execution_count": 3,
   "metadata": {
    "collapsed": false
   },
   "outputs": [],
   "source": [
    "df['timestamp']=df[['date','time']].apply(lambda row:' '.join(row),axis=1)\n",
    "df['timestamp']=pd.to_datetime(df['timestamp'],infer_datetime_format=True)\n",
    "df['yr']=df.timestamp.dt.year\n",
    "df['month']=df.timestamp.dt.month\n",
    "df['hr']=df.timestamp.dt.hour\n",
    "df['minu']=df.timestamp.dt.minute\n",
    "df['weekday']=df.timestamp.dt.weekday\n",
    "df['weekend']=0\n",
    "df.loc[(df.weekday==5)|(df.weekday==6),'weekend']=1\n",
    "df['time']=df.hr*60+df.minu\n",
    "\n",
    "df['grid_x']=calc_x_cy(df['long'].values)\n",
    "df['grid_y']=calc_y_cy(df['lat'].values)\n",
    "df['accident_count']=1\n",
    "\n",
    "# print (df[0:5])\n",
    "# print (df[0:5])"
   ]
  },
  {
   "cell_type": "code",
   "execution_count": 4,
   "metadata": {
    "collapsed": true
   },
   "outputs": [],
   "source": [
    "# df['time_prd']=df.hr.astype(str)+'hr'\n",
    "df['time_prd']=df.hr\n",
    "\n",
    "df['inj_kill']=df.n_inj+df.n_kill"
   ]
  },
  {
   "cell_type": "code",
   "execution_count": null,
   "metadata": {
    "collapsed": false
   },
   "outputs": [],
   "source": [
    "print (len(df))\n",
    "print (len(df[df.n_inj>1][['n_inj','ped_inj','cyc_inj','mot_inj']]))"
   ]
  },
  {
   "cell_type": "markdown",
   "metadata": {},
   "source": [
    "### Accident count by each yr/month by each time_prd, by citibike or not"
   ]
  },
  {
   "cell_type": "code",
   "execution_count": null,
   "metadata": {
    "collapsed": false
   },
   "outputs": [],
   "source": [
    "df1=pd.pivot_table(df,index=['grid_x','grid_y','month','yr','weekend','bor'],values=['accident_count'],\n",
    "                   columns='time_prd',aggfunc=np.sum,fill_value=0)\n",
    "# print(df1[0:5])\n",
    "df1.columns=df1.columns.droplevel()\n",
    "# print(df1[0:5])\n",
    "df1.reset_index(level=[0,1,2,3,4,5],inplace=True)\n",
    "# print (df1[0:5])\n",
    "citi_grid=pd.read_csv('sum/citibike_grid.csv')\n",
    "# print (citi_grid[0:5])\n",
    "df1=df1.merge(citi_grid,on=['grid_x','grid_y'],how='outer')\n",
    "df1=df1[(df1.grid_x!=-1)&(df1.grid_y!=-1)]\n",
    "df1.loc[df1.citigrid.isnull(),'citigrid']=0\n",
    "# print(df1[0:5])\n",
    "df1=df1.groupby(['month','yr','citigrid','weekend','bor'],as_index=False).agg('sum')\n",
    "# print(df1[0:5])\n",
    "df1['cat']=df1.apply(lambda row: '_'.join((str(int(row.yr)),str(int(row.month)),\n",
    "                                           str(int(row.citigrid)),str(int(row.weekend)))),axis=1)\n",
    "print (df1[0:5])\n",
    "\n",
    "del df1['count'];del df1['grid_x'];del df1['grid_y']\n",
    "df1.to_csv('sum/col_by_time.csv',index=False)\n"
   ]
  },
  {
   "cell_type": "markdown",
   "metadata": {},
   "source": [
    "### Get the mean accident occur time for morning peaks"
   ]
  },
  {
   "cell_type": "code",
   "execution_count": 12,
   "metadata": {
    "collapsed": false,
    "scrolled": true
   },
   "outputs": [
    {
     "name": "stdout",
     "output_type": "stream",
     "text": [
      "Index(['grid_x', 'grid_y', 'month', 'yr', 'time', 'accident_count', 'n_inj',\n",
      "       'n_kill'],\n",
      "      dtype='object')\n",
      "Index(['grid_x', 'grid_y', 'month', 'yr', 'time', 'accident_count', 'n_inj',\n",
      "       'n_kill'],\n",
      "      dtype='object')\n",
      "Index(['grid_x', 'grid_y', 'cluster'], dtype='object')\n"
     ]
    }
   ],
   "source": [
    "df1=df[(df.hr<=10)&(df.hr>=6)]\n",
    "df1=df1[df1.yr==2013]\n",
    "df1=df1[(df1.month==7)|(df1.month==8)|(df1.month==5)|(df1.month==6)]\n",
    "# df1=df1[df1.weekend==1]\n",
    "\n",
    "df1=df1.groupby(['grid_x','grid_y','month','yr'],as_index=False) \\\n",
    "                .agg({'time':'mean','accident_count':'count','n_inj':'sum','n_kill':'sum'})\n",
    "df.to_csv('sum/a.csv',index=False)\n",
    "# df1=pd.pivot_table(df1,index=['grid_x','grid_y','month'],values=['time'],columns='yr')\n",
    "# df1.columns=df1.columns.droplevel()\n",
    "# df1.reset_index(level=[0,1,2],inplace=True)\n",
    "print (df1.columns)\n",
    "# df1.rename(columns={2013:'2013',2012:'2012',2014:'2014',2015:'2015'},inplace=True)\n",
    "print (df1.columns)\n",
    "# df1['13_12']=df1['2013']-df1['2012']\n",
    "# df1['14_12']=df1['2014']-df1['2012']\n",
    "# df1['15_12']=df1['2015']-df1['2012']\n",
    "\n",
    "# df1=df1.groupby(['month','yr'],as_index=False).agg({'time':'mean','accident_count':'count'})\n",
    "# df1=pd.pivot_table(df1,index=['month','yr'],values=['time'],columns='yr')\n",
    "\n",
    "\n",
    "#  merge wtih trip_summary\n",
    "df_t=pd.read_csv('sum/trip_sum.csv')\n",
    "df_t=df_t[['grid_x','grid_y','yr','month','age','count','duration']]\n",
    "df_t=df_t[(df_t.yr==2013)&(df_t.month<=8)&(df_t.month>=5)]\n",
    "\n",
    "df1=pd.merge(df1,df_t,on=['grid_x','grid_y','yr','month'],how='left')\n",
    "\n",
    "## merge with citigrid and clustering\n",
    "citi_grid=pd.read_csv('sum/citibike_grid.csv')\n",
    "df1=df1.merge(citi_grid,on=['grid_x','grid_y'],how='outer')\n",
    "\n",
    "cluster=pd.read_csv('sum/cluster.csv')\n",
    "cluster=cluster[['grid_x','grid_y','cluster']]\n",
    "print (cluster.columns)\n",
    "df1=df1.merge(cluster,on=['grid_x','grid_y'],how='left')\n",
    "# del df1['count']\n",
    "\n",
    "\n",
    "\n",
    "df1=df1[df1.grid_x!=-1];df1=df1[df1.grid_y!=-1]\n",
    "# df1.loc[df1.citigrid.isnull(),'citigrid']=0\n",
    "# df1=df1[(df1['2012'].notnull())&(df1['2013'].notnull())&(df1['2014'].notnull())]\n",
    "# print (df1[0:5])\n",
    "\n",
    "df1.to_csv('sum/col_time.csv',index=False)"
   ]
  },
  {
   "cell_type": "markdown",
   "metadata": {},
   "source": [
    "### Get 2012 to 2013_6 data for kmeans clustering to extract similar grids"
   ]
  },
  {
   "cell_type": "code",
   "execution_count": null,
   "metadata": {
    "collapsed": false
   },
   "outputs": [],
   "source": [
    "\n",
    "df1=df[((df.yr==2013)&(df.month<=6))|(df.yr==2012)]\n",
    "# df1=df1[df1.month<=6]\n",
    "df2=pd.pivot_table(df1,index=['grid_x','grid_y'],\n",
    "                   values=['count'],columns='hr',fill_value=0,aggfunc=np.sum)\n",
    "df2.columns=df2.columns.droplevel()\n",
    "df2.reset_index(level=[0,1],inplace=True)\n",
    "# print (df2[0:50])\n",
    "df2.to_csv('2013.csv')"
   ]
  },
  {
   "cell_type": "markdown",
   "metadata": {},
   "source": [
    "### Get 2012 to 2014_7 data and summarize into a single csv"
   ]
  },
  {
   "cell_type": "code",
   "execution_count": null,
   "metadata": {
    "collapsed": false
   },
   "outputs": [],
   "source": [
    "\n",
    "df2=df[(df.yr==2012)|(df.yr==2013)|((df.yr==2014)&(df.month<8))]\n",
    "columns_used=['grid_x','grid_y','yr','month',\\\n",
    "            'n_inj', 'n_kill', 'ped_inj', 'ped_kill', \\\n",
    "            'cyc_inj', 'cyc_kill', 'mot_inj', 'mot_kill','accident_count']\n",
    "df2=df2[columns_used]\n",
    "# df2['accident_cnt']=1\n",
    "print(df2[0:5])\n",
    "print (len(df2))\n",
    "df2=df2.groupby(['yr','month','grid_x','grid_y']).agg(['sum'])\n",
    "print (len(df2))\n",
    "df2.columns=df2.columns.droplevel(1)\n",
    "df2.reset_index(level=[0,1,2,3],inplace=True)\n",
    "df2=df2[(df2.grid_x!=-1)&(df2.grid_y!=-1)]\n",
    "df2.to_csv('sum/col_sum.csv',index=False)\n",
    "# print (df2[0:10])"
   ]
  },
  {
   "cell_type": "markdown",
   "metadata": {},
   "source": [
    "## 3. Merge Collisions data and CitiBike trip data"
   ]
  },
  {
   "cell_type": "code",
   "execution_count": null,
   "metadata": {
    "collapsed": false
   },
   "outputs": [],
   "source": [
    "df_trip=pd.read_csv('sum/trip_sum.csv')\n",
    "df_col=pd.read_csv('sum/col_sum.csv')\n",
    "df=pd.merge(df_trip,df_col,on=['grid_x','grid_y','yr','month'],how='outer')\n",
    "\n",
    "citi_grid=pd.read_csv('sum/citibike_grid.csv')\n",
    "df=df.merge(citi_grid,on=['grid_x','grid_y'],how='outer')\n",
    "df.loc[df.citigrid.isnull(),'citigrid']=0\n",
    "\n",
    "cluster=pd.read_csv('sum/cluster.csv')\n",
    "cluster=cluster[['grid_x','grid_y','cluster']]\n",
    "df=df.merge(cluster,on=['grid_x','grid_y'],how='outer')\n",
    "\n",
    "df.to_csv('sum/trip_col_sum.csv',index=False)\n",
    "\n",
    "# x=pd.merge(cluster,citi_grid,on=['grid_x','grid_y'],how='outer')\n",
    "# x.to_csv('sum/x.csv',index=False)\n",
    "# # df.loc[(df.CitiBike.isnull()),'CitiBike']=0\n"
   ]
  },
  {
   "cell_type": "markdown",
   "metadata": {},
   "source": [
    "### Get all the clusters"
   ]
  },
  {
   "cell_type": "code",
   "execution_count": null,
   "metadata": {
    "collapsed": false
   },
   "outputs": [],
   "source": [
    "citi_grid=pd.read_csv('sum/citibike_grid.csv')\n",
    "\n",
    "clus=[]\n",
    "for i in range(1,8):\n",
    "    filename='clu'+str(i)+'.csv'\n",
    "    clu=pd.read_csv('sum/'+filename)\n",
    "    clu['cluster']=i\n",
    "    clus.append(clu)\n",
    "cluster=pd.concat(clus)\n",
    "\n",
    "citi_grid=pd.read_csv('sum/citibike_grid.csv')\n",
    "cluster=cluster.merge(citi_grid,on=['grid_x','grid_y'],how='outer')\n",
    "cluster.loc[cluster.citigrid.isnull(),'citigrid']=0\n",
    "del cluster['count']\n",
    "\n",
    "cluster.to_csv('sum/cluster.csv',index=False)\n",
    "# print (cluster)\n"
   ]
  },
  {
   "cell_type": "markdown",
   "metadata": {},
   "source": [
    "### Note: Backup code, no use yet"
   ]
  },
  {
   "cell_type": "code",
   "execution_count": null,
   "metadata": {
    "collapsed": false
   },
   "outputs": [],
   "source": [
    "df_in = df[(df.grid_x!=-1)&(df.grid_y!=-1)]\n",
    "df_out= df[(df.grid_x==-1)]#|(df.grid_y==-1)]\n",
    "\n",
    "# print (df_in[0:4])\n",
    "# print (df_out[0:4])\n",
    "\n",
    "# df1=df[(df.month==5)&(df.yr==2013)]\n",
    "# df2=df[(df.month==5)&(df.yr==2014)]"
   ]
  },
  {
   "cell_type": "code",
   "execution_count": null,
   "metadata": {
    "collapsed": true
   },
   "outputs": [],
   "source": [
    "## average accident occur time\n",
    "df_in_temp=df_in.groupby(['yr','month','time_prd','weekend'],as_index=False).agg({'count':'count'})\n",
    "# df_out_temp=df_out.groupby(['yr','month'],as_index=False).agg({'time':'mean'})\n",
    "df_in_temp.to_csv('df_in_temp.csv')\n",
    "# df_out_temp.to_csv('df_out_temp.csv')"
   ]
  },
  {
   "cell_type": "code",
   "execution_count": null,
   "metadata": {
    "collapsed": false
   },
   "outputs": [],
   "source": [
    "# print(df1[0:10])\n",
    "df_in_temp=pd.pivot_table(df_in, index=['yr','month','weekend'],values=['count'],columns='time_prd',fill_value=0,aggfunc=np.sum)\n",
    "df_in_temp.columns=df_in_temp.columns.droplevel()\n",
    "df_in_temp.to_csv('df_in_temp.csv')\n",
    "\n",
    "print (df_in_temp[0:5])\n",
    "\n",
    "df_out_temp=pd.pivot_table(df_out, index=['yr','month'],values=['count'],columns='time_prd',fill_value=0,aggfunc=np.sum)\n",
    "df_out_temp.columns=df_out_temp.columns.droplevel()\n",
    "df_out_temp.to_csv('df_out_temp.csv')\n",
    "print (df_out_temp[0:5])"
   ]
  },
  {
   "cell_type": "code",
   "execution_count": null,
   "metadata": {
    "collapsed": false
   },
   "outputs": [],
   "source": [
    "# df3=df[(df.yr==2015)&(df.month==10)]\n",
    "# df3.to_csv('2015_10.csv')"
   ]
  },
  {
   "cell_type": "code",
   "execution_count": null,
   "metadata": {
    "collapsed": false
   },
   "outputs": [],
   "source": [
    "# print (dir(df.timestamp.dt))\n",
    "# print (df.timestamp.dt.weekday_name)"
   ]
  },
  {
   "cell_type": "code",
   "execution_count": null,
   "metadata": {
    "collapsed": true
   },
   "outputs": [],
   "source": []
  }
 ],
 "metadata": {
  "anaconda-cloud": {},
  "kernelspec": {
   "display_name": "Python [Root]",
   "language": "python",
   "name": "Python [Root]"
  },
  "language_info": {
   "codemirror_mode": {
    "name": "ipython",
    "version": 3
   },
   "file_extension": ".py",
   "mimetype": "text/x-python",
   "name": "python",
   "nbconvert_exporter": "python",
   "pygments_lexer": "ipython3",
   "version": "3.5.2"
  }
 },
 "nbformat": 4,
 "nbformat_minor": 0
}
