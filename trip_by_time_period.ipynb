{
 "cells": [
  {
   "cell_type": "code",
   "execution_count": 1,
   "metadata": {
    "collapsed": true
   },
   "outputs": [],
   "source": [
    "import time\n",
    "import os\n",
    "import pandas as pd\n",
    "import numpy as np\n",
    "from sqlalchemy import create_engine # database connection\n",
    "import datetime as dt\n",
    "from IPython.display import display\n",
    "\n",
    "import plotly.plotly as py # interactive graphing\n",
    "from plotly.graph_objs import Bar, Scatter, Marker, Layout \n",
    "\n",
    "from calc import calc_x_cy,calc_y_cy"
   ]
  },
  {
   "cell_type": "code",
   "execution_count": 2,
   "metadata": {
    "collapsed": true
   },
   "outputs": [],
   "source": [
    "colnames1={\n",
    "'tripduration':'duration',\n",
    "'starttime':'starttime',\n",
    "'stoptime':'stoptime',\n",
    "'start station id':'stn1_id',\n",
    "'start station name':'stn1_name',\n",
    "'start station latitude':'lat1',\n",
    "'start station longitude':'long1',\n",
    "'end station id':'stn2_id',\n",
    "'end station name':'stn2_name',\n",
    "'end station latitude':'lat2',\n",
    "'end station longitude':'long2',\n",
    "'bikeid':'bikeid',\n",
    "'usertype':'usertype',\n",
    "'birth year':'birth_yr',\n",
    "'gender':'gender',\n",
    "\n",
    "}\n",
    "\n",
    "colnames2={\n",
    "'Trip Duration':'duration',\n",
    "'Start Time':'starttime',\n",
    "'Stop Time':'stoptime',\n",
    "'Start Station ID':'stn1_id',\n",
    "'Start Station Name':'stn1_name',\n",
    "'Start Station Latitude':'lat1',\n",
    "'Start Station Longitude':'long1',\n",
    "'End Station ID':'stn2_id',\n",
    "'End Station Name':'stn2_name',\n",
    "'End Station Latitude':'lat2',\n",
    "'End Station Longitude':'long2',\n",
    "'Bike ID':'bikeid',\n",
    "'User Type':'usertype',\n",
    "'Birth Year':'birth_yr',\n",
    "'Gender':'gender'\n",
    "}\n",
    "\n",
    "lat_min,lat_max=40.645,40.965 #0.16\n",
    "long_min,long_max=-74.020,-73.830 #0.095\n",
    "\n",
    "lat_sep=20\n",
    "long_sep=20\n",
    "lat_div=(lat_max-lat_min)/lat_sep\n",
    "long_div=(long_max-long_min)/long_sep"
   ]
  },
  {
   "cell_type": "markdown",
   "metadata": {},
   "source": [
    "## 1. Take in trip count raw file for each month and aggregate by grid/month"
   ]
  },
  {
   "cell_type": "code",
   "execution_count": 3,
   "metadata": {
    "collapsed": true
   },
   "outputs": [],
   "source": [
    "disk_engine = create_engine('sqlite:///trip.db')"
   ]
  },
  {
   "cell_type": "code",
   "execution_count": null,
   "metadata": {
    "collapsed": false
   },
   "outputs": [],
   "source": [
    "files=[f for f in os.listdir('trip/') if 'data' in f and '.csv' in f]\n",
    "print (files,'\\n','\\n')\n",
    "\n",
    "very_start=time.time()\n",
    "\n",
    "for eachFile in files:\n",
    "    year=int(eachFile[0:4])\n",
    "    if eachFile[4]=='-':\n",
    "        month=int(eachFile[5:7])\n",
    "    else:\n",
    "        month=int(eachFile[4:6])\n",
    "    \n",
    "    if year>2014:\n",
    "        continue\n",
    "    if year==2014 and month >=8:\n",
    "        continue\n",
    "    print(eachFile)\n",
    "    \n",
    "    df=pd.read_csv('trip/'+eachFile,sep=',',low_memory=True,skipinitialspace=True)#,nrows=10000)\n",
    "    if df.columns[0]==\"tripduration\":\n",
    "            colnames=colnames1\n",
    "    else:\n",
    "        colnames=colnames2\n",
    "    df.rename(columns=colnames,inplace=True)\n",
    "\n",
    "    df=df[df.lat1.between(35,45)];df=df[df.long1.between(-80,-60)]\n",
    "    df=df[df.lat2.between(35,45)];df=df[df.long2.between(-80,-60)]\n",
    "\n",
    "            #     columns=['duration','starttime','stn1_id','stn1_name','lat1','long1'\n",
    "            #             ,'birth_yr','gender']\n",
    "            #     for c in df.columns:\n",
    "            #         if c not in columns:\n",
    "            #             df = df.drop(c, axis=1)\n",
    "    \n",
    "    #------- Add in time paramters -------\n",
    "    df.starttime=pd.to_datetime(df.starttime)\n",
    "    df['yr']=df.starttime.dt.year\n",
    "    df['month']=df.starttime.dt.month\n",
    "    df['week']=df.starttime.dt.week\n",
    "    df['hr']=df.starttime.dt.hour\n",
    "    df['minute']=df.starttime.dt.minute\n",
    "    df['weekday']=df.starttime.dt.weekday\n",
    "    df['weekend']=0\n",
    "    df.loc[(df.weekday==5)|(df.weekday==6),'weekend']=1\n",
    "    df['time_prd']=df.hr\n",
    "    df['count']=1\n",
    "    df['grid_x']=calc_x_cy(df['long1'].values)\n",
    "    df['grid_y']=calc_y_cy(df['lat1'].values)\n",
    "    \n",
    "                        #     # Modify some week number\n",
    "                        #     df_temp=df[(df.month==12) & (df.week==1)]\n",
    "                        #     df_temp['yr']=df_temp['yr']+1\n",
    "                        #     df[(df.month==12) & (df.week==1)]=df_temp\n",
    "                        #     df_temp=df[(df.month==1) & (df.week>=50)]\n",
    "                        #     df_temp['yr']=df_temp['yr']-1\n",
    "                        #     df[(df.month==1) & (df.week>=50)]=df_temp\n",
    "    \n",
    "    #------- Remove some strange characters in stn_name and birth_yr ------\n",
    "    names=df.stn1_name.values\n",
    "    for i,name in enumerate(names):\n",
    "        names[i]=name.replace('\\xa0',' ')\n",
    "    df.stn1_name=names\n",
    "    \n",
    "    #------- Calculate age ------\n",
    "    df=df[df['birth_yr'].notnull()]\n",
    "    try:\n",
    "        df=df[(df['birth_yr']>='0')&(df['birth_yr']<='2')]\n",
    "        df['age']=df.yr-df.birth_yr.astype(int)\n",
    "    except:\n",
    "        df=df[df.birth_yr>1800]\n",
    "        df['age']=df.yr-df.birth_yr\n",
    "        \n",
    "    \n",
    "\n",
    "    #------- Trip count by time period --------\n",
    "    df1=pd.pivot_table(df,index=['yr','month','grid_x','grid_y'],\n",
    "                   values=['count'],columns='hr',fill_value=0,aggfunc=np.sum)\n",
    "    df1.columns=df1.columns.droplevel()\n",
    "    df1.reset_index(level=[0,1,2,3],inplace=True)\n",
    "    df2=df.groupby(['grid_x','grid_y','yr','month'],as_index=False).agg({'count':'count','age':'mean','duration':'mean'})\n",
    "    df3=pd.merge(df1,df2,on=['grid_x','grid_y','yr','month'],how='outer')\n",
    "    df3.to_csv('trip_grid/'+eachFile,index=False)\n",
    "    \n",
    "    end=time.time()\n",
    "    print(end-very_start)\n"
   ]
  },
  {
   "cell_type": "markdown",
   "metadata": {},
   "source": [
    "## 2. Then summarize all the months into a single csv file "
   ]
  },
  {
   "cell_type": "code",
   "execution_count": 4,
   "metadata": {
    "collapsed": false
   },
   "outputs": [],
   "source": [
    "files=[f for f in os.listdir('trip_grid/') if '.csv' in f]\n",
    "dfs=[]\n",
    "for eachFile in files:\n",
    "#     print (eachFile)\n",
    "    df=pd.read_csv('trip_grid/'+eachFile)\n",
    "    dfs.append(df)\n",
    "df=pd.concat(dfs)\n",
    "df.to_csv('sum/trip_sum.csv',index=False)\n"
   ]
  },
  {
   "cell_type": "code",
   "execution_count": 5,
   "metadata": {
    "collapsed": false
   },
   "outputs": [],
   "source": [
    "df_x=df.groupby(['yr','month'],as_index=False).agg('sum')\n",
    "df_x.to_csv('sum/trip_by_time.csv')\n",
    "# print (df_x[0:5])"
   ]
  },
  {
   "cell_type": "markdown",
   "metadata": {},
   "source": [
    "### Get the list of all CitiBike grids"
   ]
  },
  {
   "cell_type": "code",
   "execution_count": null,
   "metadata": {
    "collapsed": true
   },
   "outputs": [],
   "source": [
    "df1=df.groupby(['grid_x','grid_y']).agg('sum')\n",
    "# df.columns=df.columns.droplevel()\n",
    "df1.reset_index(level=[0,1],inplace=True)\n",
    "df1=df1[['grid_x','grid_y','count']]\n",
    "df1['citigrid']=1\n",
    "df1.to_csv('sum/citibike_grid.csv',index=False) ## List of citibike grids\n",
    "# print (df1[0:10])\n",
    "# print (len(df1))\n"
   ]
  },
  {
   "cell_type": "code",
   "execution_count": null,
   "metadata": {
    "collapsed": false
   },
   "outputs": [],
   "source": [
    "# df=pd.read_csv('sum/trip_sum.csv')\n",
    "# df1=df.groupby(['grid_x','grid_y']).agg('sum')\n",
    "# # print (df[0:10])\n",
    "# print (df1.columns)\n",
    "# # df.columns=df.columns.droplevel()\n",
    "# df1.reset_index(level=[0,1],inplace=True)\n",
    "# df1=df1[['grid_x','grid_y']]\n",
    "# df1['CitiBike']=1\n",
    "# print (df1[0:10])\n",
    "# print (len(df1))\n",
    "# df1.to_csv('sum/citibike_grid.csv')\n",
    "\n",
    "# df3=pd.merge(df,df1,on=['grid_x','grid_y'],how='outer')\n",
    "# df3.to_csv('sum/trip_sum_new.csv',index=False)"
   ]
  },
  {
   "cell_type": "markdown",
   "metadata": {},
   "source": [
    "## 4. Get the station list for each grid"
   ]
  },
  {
   "cell_type": "code",
   "execution_count": null,
   "metadata": {
    "collapsed": true
   },
   "outputs": [],
   "source": [
    "import time\n",
    "import os\n",
    "import pandas as pd\n",
    "import numpy as np\n",
    "from sqlalchemy import create_engine # database connection\n",
    "import datetime as dt\n",
    "from IPython.display import display\n",
    "\n",
    "import plotly.plotly as py # interactive graphing\n",
    "from plotly.graph_objs import Bar, Scatter, Marker, Layout \n",
    "\n",
    "from calc import calc_x_cy,calc_y_cy"
   ]
  },
  {
   "cell_type": "code",
   "execution_count": null,
   "metadata": {
    "collapsed": true
   },
   "outputs": [],
   "source": [
    "colnames1={\n",
    "'tripduration':'duration',\n",
    "'starttime':'starttime',\n",
    "'stoptime':'stoptime',\n",
    "'start station id':'stn1_id',\n",
    "'start station name':'stn1_name',\n",
    "'start station latitude':'lat1',\n",
    "'start station longitude':'long1',\n",
    "'end station id':'stn2_id',\n",
    "'end station name':'stn2_name',\n",
    "'end station latitude':'lat2',\n",
    "'end station longitude':'long2',\n",
    "'bikeid':'bikeid',\n",
    "'usertype':'usertype',\n",
    "'birth year':'birth_yr',\n",
    "'gender':'gender',\n",
    "\n",
    "}\n",
    "\n",
    "colnames2={\n",
    "'Trip Duration':'duration',\n",
    "'Start Time':'starttime',\n",
    "'Stop Time':'stoptime',\n",
    "'Start Station ID':'stn1_id',\n",
    "'Start Station Name':'stn1_name',\n",
    "'Start Station Latitude':'lat1',\n",
    "'Start Station Longitude':'long1',\n",
    "'End Station ID':'stn2_id',\n",
    "'End Station Name':'stn2_name',\n",
    "'End Station Latitude':'lat2',\n",
    "'End Station Longitude':'long2',\n",
    "'Bike ID':'bikeid',\n",
    "'User Type':'usertype',\n",
    "'Birth Year':'birth_yr',\n",
    "'Gender':'gender'\n",
    "}\n",
    "\n",
    "lat_min,lat_max=40.645,40.965 #0.16\n",
    "long_min,long_max=-74.020,-73.830 #0.095\n",
    "\n",
    "lat_sep=20\n",
    "long_sep=20\n",
    "lat_div=(lat_max-lat_min)/lat_sep\n",
    "long_div=(long_max-long_min)/long_sep"
   ]
  },
  {
   "cell_type": "code",
   "execution_count": null,
   "metadata": {
    "collapsed": false,
    "scrolled": false
   },
   "outputs": [],
   "source": [
    "files=[f for f in os.listdir('trip/') if 'data' in f and '.csv' in f]\n",
    "print (files,'\\n','\\n')\n",
    "\n",
    "for eachFile in files:\n",
    "    if not '2013' in eachFile or not '7' in eachFile:\n",
    "        continue\n",
    "    year=int(eachFile[0:4])\n",
    "    if eachFile[4]=='-':\n",
    "        month=int(eachFile[5:7])\n",
    "    else:\n",
    "        month=int(eachFile[4:6])\n",
    "    \n",
    "    if year>2014:\n",
    "        continue\n",
    "    if year==2014 and month >=8:\n",
    "        continue\n",
    "    print(eachFile)\n",
    "    \n",
    "    df=pd.read_csv('trip/'+eachFile,sep=',',low_memory=True,skipinitialspace=True)#,nrows=10000)\n",
    "    if df.columns[0]==\"tripduration\":\n",
    "            colnames=colnames1\n",
    "    else:\n",
    "        colnames=colnames2\n",
    "    df.rename(columns=colnames,inplace=True)\n",
    "\n",
    "    df=df[df.lat1.between(35,45)];df=df[df.long1.between(-80,-60)]\n",
    "    df=df[df.lat2.between(35,45)];df=df[df.long2.between(-80,-60)]\n",
    "\n",
    "            #     columns=['duration','starttime','stn1_id','stn1_name','lat1','long1'\n",
    "            #             ,'birth_yr','gender']\n",
    "            #     for c in df.columns:\n",
    "            #         if c not in columns:\n",
    "            #             df = df.drop(c, axis=1)\n",
    "    \n",
    "    #------- Add in time paramters -------\n",
    "    df.starttime=pd.to_datetime(df.starttime)\n",
    "    df['yr']=df.starttime.dt.year\n",
    "    df['month']=df.starttime.dt.month\n",
    "    df['week']=df.starttime.dt.week\n",
    "    df['hr']=df.starttime.dt.hour\n",
    "    df['minute']=df.starttime.dt.minute\n",
    "    df['weekday']=df.starttime.dt.weekday\n",
    "    df['weekend']=0\n",
    "    df.loc[(df.weekday==5)|(df.weekday==6),'weekend']=1\n",
    "    df['time_prd']=df.hr\n",
    "    df['count']=1\n",
    "    df['grid_x']=calc_x_cy(df['long1'].values)\n",
    "    df['grid_y']=calc_y_cy(df['lat1'].values)\n",
    "    \n",
    "                        #     # Modify some week number\n",
    "                        #     df_temp=df[(df.month==12) & (df.week==1)]\n",
    "                        #     df_temp['yr']=df_temp['yr']+1\n",
    "                        #     df[(df.month==12) & (df.week==1)]=df_temp\n",
    "                        #     df_temp=df[(df.month==1) & (df.week>=50)]\n",
    "                        #     df_temp['yr']=df_temp['yr']-1\n",
    "                        #     df[(df.month==1) & (df.week>=50)]=df_temp\n",
    "    \n",
    "    #------- Remove some strange characters in stn_name and birth_yr ------\n",
    "    names=df.stn1_name.values\n",
    "    for i,name in enumerate(names):\n",
    "        names[i]=name.replace('\\xa0',' ')\n",
    "    df.stn1_name=names\n",
    "    \n",
    "    #------- Calculate age ------\n",
    "    df=df[df['birth_yr'].notnull()]\n",
    "    try:\n",
    "        df=df[(df['birth_yr']>='0')&(df['birth_yr']<='2')]\n",
    "        df['age']=df.yr-df.birth_yr.astype(int)\n",
    "    except:\n",
    "        df=df[df.birth_yr>1800]\n",
    "        df['age']=df.yr-df.birth_yr\n",
    "\n",
    "    #------- Trip count by time period --------\n",
    "#     df1=pd.pivot_table(df,index=['yr','month','grid_x','grid_y'],\n",
    "#                    values=['count'],columns='hr',fill_value=0,aggfunc=np.sum)\n",
    "#     df1.columns=df1.columns.droplevel()\n",
    "#     df1.reset_index(level=[0,1,2,3],inplace=True)\n",
    "#     df2=df.groupby(['grid_x','grid_y','yr','month'],as_index=False).agg({'count':'count','age':'mean','duration':'mean'})\n",
    "#     df3=pd.merge(df1,df2,on=['grid_x','grid_y','yr','month'],how='outer')\n",
    "#     df3.to_csv('trip_grid/'+eachFile,index=False)\n",
    "    df1=df.groupby(['stn1_name','stn1_id','lat1','long1','grid_x','grid_y'],as_index=False).agg({'count':'sum'})\n",
    "    \n",
    "    end=time.time()\n",
    "    print(end-very_start)\n",
    "    \n",
    "cluster=pd.read_csv('sum/cluster.csv')\n",
    "df1=pd.merge(df1,cluster,on=['grid_x','grid_y'],how='outer')\n",
    "df1.to_csv('sum/grid_stns.csv',index=False)"
   ]
  },
  {
   "cell_type": "code",
   "execution_count": null,
   "metadata": {
    "collapsed": true
   },
   "outputs": [],
   "source": []
  }
 ],
 "metadata": {
  "anaconda-cloud": {},
  "kernelspec": {
   "display_name": "Python [Root]",
   "language": "python",
   "name": "Python [Root]"
  },
  "language_info": {
   "codemirror_mode": {
    "name": "ipython",
    "version": 3
   },
   "file_extension": ".py",
   "mimetype": "text/x-python",
   "name": "python",
   "nbconvert_exporter": "python",
   "pygments_lexer": "ipython3",
   "version": "3.5.2"
  }
 },
 "nbformat": 4,
 "nbformat_minor": 0
}
